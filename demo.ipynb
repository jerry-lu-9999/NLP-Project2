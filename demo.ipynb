{
 "cells": [
  {
   "cell_type": "markdown",
   "metadata": {},
   "source": [
    "# Introduction to PyTrips"
   ]
  },
  {
   "cell_type": "markdown",
   "metadata": {},
   "source": [
    "For your project2, you may use the PyTrips library, which provides an interface for doing some of the TRIPS functions you implemented in the previous assignment (type subsumption, least common subsumer, word lookup, etc.).\n",
    "\n",
    "Install pytrips with `pip install pytrips` (or `pip3 install pytrips`).\n",
    "\n",
    "NOTE: if you have any questions about PyTrips or encounter any bugs, please submit an issue on the [PyTrips Github Repo](https://github.com/mrmechko/pytrips/issues), so Rik can respond."
   ]
  },
  {
   "cell_type": "code",
   "execution_count": 1,
   "metadata": {},
   "outputs": [],
   "source": [
    "# Load pytrips\n",
    "from pytrips import ontology"
   ]
  },
  {
   "cell_type": "code",
   "execution_count": 2,
   "metadata": {},
   "outputs": [],
   "source": [
    "# Access TRIPS ontology\n",
    "ont = ontology.load()"
   ]
  },
  {
   "cell_type": "code",
   "execution_count": 3,
   "metadata": {},
   "outputs": [
    {
     "data": {
      "text/plain": "['(adp punc-minus ribosylations)',\n '(break outs)',\n '(break ups)',\n '(check ins)',\n '(check outs)',\n '(de punc-minus energisations)',\n '(de punc-minus energizations)',\n '(down punc-minus regulations)',\n '(down regulations)',\n '(follow ups)',\n '(gamma carboxylations)',\n '(gamma carboxylizations)',\n '(gene expressions)',\n '(get togethers)',\n '(goose punc-minus steps)',\n '(meet ups)',\n '(s punc-minus glutathionylations)',\n '(s punc-minus nitrosylations)',\n '(speed ups)',\n '(take overs)',\n '(up punc-minus regulations)',\n '(up punc-minus regulators)',\n '(up regulations)',\n 'a',\n 'aac',\n 'aacs',\n 'ab',\n 'abalone',\n 'abalones',\n 'abandonment',\n 'abandonments',\n 'abbreviation',\n 'abbreviations',\n 'abdomen',\n 'abdomens',\n 'abilities',\n 'ability',\n 'abiyuch',\n 'abiyuches',\n 'abnormalities',\n 'abnormality',\n 'abrasion',\n 'abrasions',\n 'abrogation',\n 'abrogations',\n 'abs',\n 'absence',\n 'absences',\n 'absorption',\n 'absorptions',\n 'abstract',\n 'abstracts',\n 'abuse',\n 'abuses',\n 'academic',\n 'academics',\n 'accelerator',\n 'accelerators',\n 'accent',\n 'acceptance',\n 'acceptances',\n 'access',\n 'accesses',\n 'accessor',\n 'accessories',\n 'accessors',\n 'accessory',\n 'accidental',\n 'accidentals',\n 'accommodation',\n 'accommodations',\n 'accomplishment',\n 'accomplishments',\n 'accord',\n 'accords',\n 'account',\n 'accounts',\n 'accumulation',\n 'accumulations',\n 'accuracies',\n 'accuracy',\n 'acerola',\n 'acerolas',\n 'acesulfame',\n 'acetylation',\n 'acetylations',\n 'ache',\n 'aches',\n 'achievement',\n 'achievements',\n 'acid',\n 'acids',\n 'acknowledgement',\n 'acknowledgements',\n 'acknowledgment',\n 'acknowledgments',\n 'acorn',\n 'acorns',\n 'acoustics',\n 'acquisition',\n 'acquisitions',\n 'acre',\n 'acres',\n 'act',\n 'action',\n 'actions',\n 'activation',\n 'activations',\n 'activator',\n 'activators',\n 'active',\n 'activities',\n 'activity',\n 'acts',\n 'ad',\n 'adapter',\n 'adapters',\n 'adaptor',\n 'adaptors',\n 'addiction',\n 'addictions',\n 'addition',\n 'additions',\n 'address',\n 'addresses',\n 'adjective',\n 'adjectives',\n 'adjustment',\n 'adjustments',\n 'admin',\n 'administration',\n 'administrations',\n 'administrator',\n 'administrators',\n 'admins',\n 'admission',\n 'admissions',\n 'adobo',\n 'adolescence',\n 'adolescences',\n 'adolescent',\n 'adolescents',\n 'adp',\n 'ads',\n 'adsl',\n 'adsls',\n 'adult',\n 'adulthood',\n 'adulthoods',\n 'adults',\n 'advance',\n 'advances',\n 'advantage',\n 'advantages',\n 'adverb',\n 'adverbs',\n 'advertisment',\n 'advertisments',\n 'advice',\n 'advices',\n 'adzuki',\n 'adzukis',\n 'aerobics',\n 'aerosol',\n 'aerosols',\n 'afficionado',\n 'afficionados',\n 'affiliate',\n 'affiliates',\n 'affinities',\n 'affinity',\n 'aficionado',\n 'aficionados',\n 'african',\n 'africans',\n 'afterburner',\n 'afterburners',\n 'afternoon',\n 'afternoons',\n 'agar',\n 'age',\n 'agenda',\n 'agendas',\n 'agent',\n 'agents',\n 'ages',\n 'aggregate',\n 'aggregates',\n 'aging',\n 'agings',\n 'agitation',\n 'agitations',\n 'agreement',\n 'agreements',\n 'agriculture',\n 'agricultures',\n 'aid',\n 'aids',\n 'aiff',\n 'aiffs',\n 'aio',\n 'aios',\n 'air',\n 'aircraft',\n 'aircrafts',\n 'airfare',\n 'airfares',\n 'airfield',\n 'airfields',\n 'airline',\n 'airlines',\n 'airplane',\n 'airplanes',\n 'airport',\n 'airports',\n 'airs',\n 'alarm',\n 'alarms',\n 'alaska',\n 'album',\n 'albums',\n 'alcohol',\n 'alcohols',\n 'alert',\n 'alerts',\n 'alfredo',\n 'alfredos',\n 'alga',\n 'algas',\n 'algebra',\n 'algebras',\n 'algorithm',\n 'algorithms',\n 'alias',\n 'aliases',\n 'alignment',\n 'alignments',\n 'all',\n 'allergies',\n 'allergy',\n 'alligator',\n 'alligators',\n 'allocation',\n 'allocations',\n 'allotment',\n 'allotments',\n 'allowance',\n 'allowances',\n 'alloy',\n 'alloys',\n 'allspice',\n 'almond',\n 'almonds',\n 'alteration',\n 'alterations',\n 'alternation',\n 'alternations',\n 'alternative',\n 'alternatives',\n 'alum',\n 'aluminium',\n 'aluminiums',\n 'aluminum',\n 'aluminums',\n 'alums',\n 'am',\n 'amaranth',\n 'ambition',\n 'ambitions',\n 'ambulance',\n 'ambulances',\n 'amenities',\n 'amenity',\n 'american',\n 'americans',\n 'ammeter',\n 'ammeters',\n 'amnesia',\n 'amnt',\n 'amnts',\n 'amount',\n 'amounts',\n 'amperemeter',\n 'amperemeters',\n 'ampermeter',\n 'ampermeters',\n 'amplifier',\n 'amplifiers',\n 'ampmeter',\n 'ampmeters',\n 'anaesthesia',\n 'analogies',\n 'analogy',\n 'analysis',\n 'analysises',\n 'ancho',\n 'anchor',\n 'anchors',\n 'anchovies',\n 'anchovy',\n 'anemia',\n 'anesthesia',\n 'anesthesiologist',\n 'anesthesiologists',\n 'aneurysm',\n 'aneurysms',\n 'angel',\n 'angelfood',\n 'angels',\n 'angina',\n 'angiogram',\n 'angiograms',\n 'angiographies',\n 'angiography',\n 'angle',\n 'angles',\n 'animal',\n 'animals',\n 'animation',\n 'animations',\n 'animator',\n 'animators',\n 'anise',\n 'ankle',\n 'ankles',\n 'annex',\n 'annexes',\n 'annihilation',\n 'annihilations',\n 'anniversaries',\n 'anniversary',\n 'annotation',\n 'annotations',\n 'announcement',\n 'announcements',\n 'annoyance',\n 'annoyances',\n 'anomalies',\n 'anomaly',\n 'anorexia',\n 'answer',\n 'answers',\n 'ant',\n 'antacid',\n 'antacids',\n 'antelope',\n 'antelopes',\n 'antibiotic',\n 'antibiotics',\n 'antihistamine',\n 'antihistamines',\n 'ants',\n 'anxiety',\n 'anyplace',\n 'anyplaces',\n 'anywhere',\n 'anywheres',\n 'aorta',\n 'aortas',\n 'apartment',\n 'apartments',\n 'apathies',\n 'apathy',\n 'ape',\n 'apes',\n 'apothecaries',\n 'apothecary',\n 'app',\n 'appeal',\n 'appeals',\n 'appearance',\n 'appearances',\n 'appetite',\n 'appetites',\n 'applause',\n 'applauses',\n 'apple',\n 'apples',\n 'applesauce',\n 'applet',\n 'applets',\n 'applicant',\n 'applicants',\n 'application',\n 'applications',\n 'applique',\n 'appointment',\n 'appointments',\n 'appriasal',\n 'appriasals',\n 'approach',\n 'approaches',\n 'appropriation',\n 'appropriations',\n 'approval',\n 'approvals',\n 'apps',\n 'apricot',\n 'apricots',\n 'arachnid',\n 'arachnids',\n 'architecture',\n 'architectures',\n 'archive',\n 'archives',\n 'area',\n 'areas',\n 'argument',\n 'arguments',\n 'aril',\n 'arils',\n 'arm',\n 'arms',\n 'aroma',\n 'aromas',\n 'arrangement',\n 'arrangements',\n 'array',\n 'arrays',\n 'arrest',\n 'arrests',\n 'arrhythmia',\n 'arrival',\n 'arrivals',\n 'arrow',\n 'arrowhead',\n 'arrowheads',\n 'arrowroot',\n 'arrows',\n 'art',\n 'arteries',\n 'arteriosclerosis',\n 'artery',\n 'arthritis',\n 'artichoke',\n 'artichokes',\n 'article',\n 'articles',\n 'artifact',\n 'artifacts',\n 'artist',\n 'artists',\n 'arts',\n 'arugula',\n 'ascender',\n 'ascenders',\n 'ascorbic',\n 'asian',\n 'asians',\n 'asparagus',\n 'aspartame',\n 'aspect',\n 'aspects',\n 'ass',\n 'assault',\n 'assaults',\n 'assertion',\n 'assertions',\n 'asses',\n 'assessment',\n 'assessments',\n 'asset',\n 'assets',\n 'assignment',\n 'assignments',\n 'assistance',\n 'assistances',\n 'assistant',\n 'assistants',\n 'association',\n 'associations',\n 'assortment',\n 'assortments',\n 'assumption',\n 'assumptions',\n 'assurance',\n 'assurances',\n 'asthma',\n 'ataxia',\n 'atherosclerosis',\n 'athlete',\n 'athletes',\n 'atlantic',\n 'atlas',\n 'atlases',\n 'atmosphere',\n 'atmospheres',\n 'atom',\n 'atoms',\n 'attachment',\n 'attachments',\n 'attack',\n 'attacks',\n 'attempt',\n 'attempts',\n 'attendee',\n 'attendees',\n 'attention',\n 'attentions',\n 'attic',\n 'attics',\n 'attire',\n 'attorney',\n 'attorneys',\n 'attraction',\n 'attractions',\n 'attribute',\n 'attributes',\n 'atv',\n 'atvs',\n 'au',\n 'auction',\n 'auctions',\n 'audience',\n 'audiences',\n 'audio',\n 'audios',\n 'audition',\n 'auditions',\n 'augmentation',\n 'augmentations',\n 'aunt',\n 'aunts',\n 'australian',\n 'australians',\n 'authentication',\n 'authentications',\n 'author',\n 'authorities',\n 'authority',\n 'authorization',\n 'authorizations',\n 'authors',\n 'autobiographies',\n 'autobiography',\n 'autocomplete',\n 'autocompletes',\n 'autofill',\n 'autofills',\n 'autofocus',\n 'automaton',\n 'automatons',\n 'automobile',\n 'automobiles',\n 'autumn',\n 'autumns',\n 'availabilities',\n 'availability',\n 'ave',\n 'avenue',\n 'avenues',\n 'aves',\n 'avocado',\n 'avocados',\n 'award',\n 'awards',\n 'awareness',\n 'awarenesses',\n 'axes',\n 'axis',\n 'b',\n 'babassu',\n 'babassus',\n 'babies',\n 'baby',\n 'babyfood',\n 'back',\n 'backache',\n 'backaches',\n 'background',\n 'backgrounds',\n 'backlog',\n 'backlogs',\n 'backpack',\n 'backpacks',\n 'backrib',\n 'backribs',\n 'backs',\n 'backside',\n 'backsides',\n 'backup',\n 'backups',\n 'bacon',\n 'bacons',\n 'bacteria',\n 'bacterium',\n 'badge',\n 'badges',\n 'badminton',\n 'badness',\n 'badnesses',\n 'bag',\n 'bagel',\n 'bagels',\n 'baggage',\n 'baggages',\n 'bags',\n 'bakeries',\n 'bakery',\n 'baker^s',\n 'baking',\n 'balance',\n 'balances',\n 'balconies',\n 'balcony',\n 'ball',\n 'ballpark',\n 'ballparks',\n 'balls',\n 'balm',\n 'balms',\n 'balsam',\n 'bamboo',\n 'banana',\n 'bananas',\n 'band',\n 'bandage',\n 'bandages',\n 'bandaid',\n 'bandaids',\n 'bands',\n 'bandwidth',\n 'bandwidths',\n 'bank',\n 'banks',\n 'banner',\n 'banners',\n 'bar',\n 'barbecue',\n 'barbecues',\n 'barbeque',\n 'barbeques',\n 'bargain',\n 'bargains',\n 'bars',\n 'base',\n 'baseball',\n 'baseline',\n 'baselines',\n 'basement',\n 'basements',\n 'bases',\n 'basics',\n 'basil',\n 'basis',\n 'basket',\n 'basketball',\n 'baskets',\n 'bass',\n 'basses',\n 'bat',\n 'bath',\n 'bathroom',\n 'bathrooms',\n 'baths',\n 'bathtub',\n 'bathtubs',\n 'bats',\n 'batter',\n 'batteries',\n 'batters',\n 'battery',\n 'bay',\n 'bays',\n 'bcc',\n 'bccs',\n 'beach',\n 'beaches',\n 'bean',\n 'beans',\n 'bear',\n 'bearnaise',\n 'bearnaises',\n 'bears',\n 'beat',\n 'beating',\n 'beatings',\n 'beats',\n 'beauties',\n 'beauty',\n 'beaver',\n 'beavers',\n 'bed',\n 'bedclothes',\n 'bedclotheses',\n 'bedcover',\n 'bedcovers',\n 'bedding',\n 'beddings',\n 'bedroom',\n 'bedrooms',\n 'beds',\n 'bedspread',\n 'bedspreads',\n 'bedtime',\n 'bedtimes',\n 'bee',\n 'beechnut',\n 'beechnuts',\n 'beef',\n 'beefalo',\n 'beefalos',\n 'beer',\n 'beers',\n 'beerwurst',\n 'bees',\n 'beet',\n 'beets',\n 'beginning',\n 'beginnings',\n 'being',\n 'beings',\n 'belief',\n 'beliefs',\n 'bellies',\n 'belly',\n 'bellyache',\n 'bellyaches',\n 'belongings',\n 'belt',\n 'belts',\n 'beluga',\n 'bench',\n 'benches',\n 'benchmark',\n 'benchmarks',\n 'bend',\n 'bends',\n 'benefit',\n 'benefits',\n 'beret',\n 'berets',\n 'beverage',\n 'beverages',\n 'bicycle',\n 'bicycles',\n 'bid',\n 'bidder',\n 'bidders',\n 'bids',\n 'big',\n 'bike',\n 'bikes',\n 'bile',\n 'biles',\n 'bill',\n 'bills',\n 'binder',\n 'binders',\n 'binhex',\n 'binhexes',\n 'biochemistries',\n 'biochemistry',\n 'biographies',\n 'biography',\n 'biologies',\n 'biologist',\n 'biologists',\n 'biology',\n 'bios',\n 'biotinylation',\n 'biotinylations',\n 'bird',\n 'birds',\n 'birth',\n 'birthday',\n 'birthdays',\n 'births',\n 'biscuit',\n 'biscuits',\n 'bison',\n 'bisons',\n 'bisque',\n 'bisques',\n 'bistro',\n 'bistros',\n 'bit',\n 'bitmap',\n 'bitmaps',\n 'bits',\n 'bitterness',\n 'bitternesses',\n 'blackberries',\n 'blackberry',\n 'blackboard',\n 'blackboards',\n 'blackeye',\n 'blackeyes',\n 'blackfish',\n 'blackfishes',\n 'blade',\n 'blades',\n 'blank',\n 'blanket',\n 'blankets',\n 'blanks',\n 'blazer',\n 'blazers',\n 'bleed',\n 'bleeds',\n 'bleu',\n 'blind',\n 'blinds',\n 'block',\n 'blocks',\n 'blood',\n 'bloods',\n 'blouse',\n 'blouses',\n 'blue',\n 'blueberries',\n 'blueberry',\n 'bluefin',\n 'bluefish',\n 'bluefishes',\n 'boar',\n 'board',\n 'boards',\n 'boars',\n 'boat',\n 'boats',\n 'bockwurst',\n 'bodies',\n 'body',\n 'bold',\n 'bolds',\n 'bologna',\n 'bolster',\n 'bolsters',\n 'bomb',\n 'bombs',\n 'bone',\n 'bones',\n 'bonus',\n 'bonuses',\n 'book',\n 'bookcase',\n 'bookcases',\n 'booking',\n 'bookings',\n 'bookkeeper',\n 'bookkeepers',\n 'bookmark',\n 'bookmarks',\n 'books',\n 'boolean',\n 'booleans',\n 'boost',\n 'boosts',\n 'boot',\n 'boots',\n 'borage',\n 'border',\n 'borders',\n 'boss',\n 'bosses',\n 'boston',\n 'bottle',\n 'bottleneck',\n 'bottlenecks',\n 'bottles',\n 'bottom',\n 'bottoms',\n 'bouillon',\n 'bouillons',\n 'boundaries',\n 'boundary',\n 'bowhead',\n 'bowl',\n 'bowls',\n 'box',\n 'boxcar',\n 'boxcars',\n 'boxer',\n 'boxes',\n 'boxing',\n 'boxwood',\n 'boxwoods',\n 'boy',\n 'boyfriend',\n 'boyfriends',\n 'boys',\n 'boysenberries',\n 'boysenberry',\n 'bra',\n 'bracket',\n 'brackets',\n 'brain',\n 'brains',\n 'brainstem',\n 'brainstems',\n 'bran',\n 'branch',\n 'branches',\n 'brand',\n 'brands',\n 'bras',\n 'brassier',\n 'brassiere',\n 'brassieres',\n 'brassiers',\n 'bratwurst',\n 'bratwursts',\n 'brazilnut',\n 'brazilnuts',\n 'breach',\n 'breaches',\n 'bread',\n 'breadfruit',\n 'breadfruits',\n 'breads',\n 'break',\n 'breakfast',\n 'breakfasts',\n 'breakfasttime',\n 'breakfasttimes',\n 'breaks',\n 'breakup',\n 'breakups',\n 'breast',\n 'breastbone',\n 'breastbones',\n 'breasts',\n 'breath',\n 'breather',\n 'breathers',\n 'breathing',\n 'breathings',\n 'breathlessness',\n 'breaths',\n 'breed',\n 'breeds',\n 'brick',\n 'bricklayer',\n 'bricklayers',\n 'bricks',\n 'bridge',\n 'bridges',\n 'brie',\n 'briefcase',\n 'briefcases',\n 'brightness',\n 'brightnesses',\n 'brisket',\n 'british',\n 'britishes',\n 'broadband',\n 'broadbean',\n 'broadbeans',\n 'broccoli',\n 'broiler',\n 'broilers',\n 'bronchodilator',\n 'bronchodilators',\n 'broth',\n 'brother',\n 'brothers',\n 'broths',\n 'brow',\n 'brown',\n 'brownie',\n 'brownies',\n 'brows',\n 'browser',\n 'browsers',\n 'bruise',\n 'bruises',\n 'brunch',\n 'brunches',\n 'brussels',\n 'buck',\n 'bucks',\n 'buckwheat',\n 'buddies',\n 'buddy',\n 'budget',\n 'budgets',\n 'buffalo',\n 'buffalos',\n 'buffer',\n 'buffers',\n 'bug',\n 'bugs',\n 'builder',\n 'builders',\n 'building',\n 'buildings',\n 'bulb',\n 'bulbs',\n 'bulgur',\n 'bulimia',\n 'bullet',\n 'bulletin',\n 'bulletins',\n 'bullets',\n 'bummer',\n 'bummers',\n 'bump',\n 'bumps',\n 'bunch',\n ...]"
     },
     "execution_count": 3,
     "metadata": {},
     "output_type": "execute_result"
    }
   ],
   "source": [
    "# Access all words in the TRIPS lexicon\n",
    "ont.all_words"
   ]
  },
  {
   "cell_type": "code",
   "execution_count": 4,
   "metadata": {},
   "outputs": [
    {
     "data": {
      "text/plain": "[ont::eat]"
     },
     "execution_count": 4,
     "metadata": {},
     "output_type": "execute_result"
    }
   ],
   "source": [
    "# Look up the list of ontology types for the word \"eat\"\n",
    "ont[\"w::eat\"]"
   ]
  },
  {
   "cell_type": "code",
   "execution_count": 5,
   "metadata": {},
   "outputs": [
    {
     "name": "stdout",
     "output_type": "stream",
     "text": "ont::person\nont::person\n"
    }
   ],
   "source": [
    "# Get the ontology type named \"ont::person\"\n",
    "print(ont[\"ont::person\"])\n",
    "\n",
    "# for simplicity, looking up the ontology type works without \"ont::\" part\n",
    "print(ont[\"person\"])"
   ]
  },
  {
   "cell_type": "code",
   "execution_count": 6,
   "metadata": {},
   "outputs": [
    {
     "name": "stdout",
     "output_type": "stream",
     "text": "[ont::eat]\nont::person\nont::person\n"
    }
   ],
   "source": [
    "# Note: all the look-ups are case-insensitive\n",
    "print(ont[\"w::EAT\"])\n",
    "print(ont[\"ONT::PERSON\"])\n",
    "print(ont[\"peRsOn\"])"
   ]
  },
  {
   "cell_type": "code",
   "execution_count": 7,
   "metadata": {},
   "outputs": [
    {
     "name": "stdout",
     "output_type": "stream",
     "text": "ont::consume\n[]\n"
    }
   ],
   "source": [
    "# for a ontology type \"ont::eat\"\n",
    "ont_eat = ont[\"ont::eat\"]\n",
    "\n",
    "# look up its parent\n",
    "print(ont_eat.parent)\n",
    "\n",
    "# look up its children \n",
    "print(ont_eat.children)"
   ]
  },
  {
   "cell_type": "code",
   "execution_count": 8,
   "metadata": {},
   "outputs": [
    {
     "data": {
      "text/plain": "True"
     },
     "execution_count": 8,
     "metadata": {},
     "output_type": "execute_result"
    }
   ],
   "source": [
    "# check the subsumption relation\n",
    "# typeA < typeB is True if typeA is a descendant of typeB \n",
    "ont_eat < ont[\"event-of-action\"]"
   ]
  },
  {
   "cell_type": "code",
   "execution_count": 9,
   "metadata": {},
   "outputs": [
    {
     "data": {
      "text/plain": "True"
     },
     "execution_count": 9,
     "metadata": {},
     "output_type": "execute_result"
    }
   ],
   "source": [
    "# for subsumption relation test, at least one side should be explicitly a Trips type\n",
    "\"food\" > ont[\"bread\"]"
   ]
  },
  {
   "cell_type": "code",
   "execution_count": 10,
   "metadata": {},
   "outputs": [
    {
     "data": {
      "text/plain": "ont::phys-object"
     },
     "execution_count": 10,
     "metadata": {},
     "output_type": "execute_result"
    }
   ],
   "source": [
    "# get the lowest common subsumer of two types\n",
    "ont[\"bread\"] ^ ont[\"geo-object\"]"
   ]
  }
 ],
 "metadata": {
  "kernelspec": {
   "display_name": "Python 3",
   "language": "python",
   "name": "python3"
  },
  "language_info": {
   "codemirror_mode": {
    "name": "ipython",
    "version": 3
   },
   "file_extension": ".py",
   "mimetype": "text/x-python",
   "name": "python",
   "nbconvert_exporter": "python",
   "pygments_lexer": "ipython3",
   "version": "3.7.4-final"
  }
 },
 "nbformat": 4,
 "nbformat_minor": 2
}